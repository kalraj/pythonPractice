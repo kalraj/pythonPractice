{
 "cells": [
  {
   "cell_type": "code",
   "execution_count": 65,
   "metadata": {},
   "outputs": [
    {
     "name": "stdout",
     "output_type": "stream",
     "text": [
      "5\n",
      "[1, 2, 4, 4, 5, '_', '_']\n"
     ]
    }
   ],
   "source": [
    "a=[1,2,3,4,3,4,5]\n",
    "n=len(a)\n",
    "c=0\n",
    "for i in range(n):\n",
    "    \n",
    "    if a[i]==3:\n",
    "        a.append('_')\n",
    "        a.pop(i)\n",
    "        \n",
    "    else:\n",
    "        a[c]==a[i]\n",
    "        c=c+1\n",
    "        \n",
    "print(c)\n",
    "print(a)"
   ]
  },
  {
   "cell_type": "code",
   "execution_count": 51,
   "metadata": {},
   "outputs": [
    {
     "name": "stdout",
     "output_type": "stream",
     "text": [
      "[5, '_']\n"
     ]
    }
   ],
   "source": [
    "from typing import List\n",
    "class Solution:\n",
    "    def removeElement(self, nums: List[int], val: int) -> int:\n",
    "        c=0\n",
    "        b=len(nums)\n",
    "        for i in range(b):\n",
    "            if nums[i]==val:\n",
    "                 \n",
    "                 c=c+1\n",
    "                 continue\n",
    "            else:\n",
    "                nums[c]=nums[i]\n",
    "                c=c+1\n",
    "                 \n",
    "                 \n",
    "                \n",
    "        return c\n",
    "\n",
    "v=Solution()\n",
    "v.removeElement([0,1,2,2,3,0,4,2],2)\n",
    "print(a)\n",
    "\n",
    "\n",
    "                \n",
    "                "
   ]
  },
  {
   "cell_type": "code",
   "execution_count": 66,
   "metadata": {},
   "outputs": [
    {
     "data": {
      "text/plain": [
       "{1, 2, 3, 4, 5}"
      ]
     },
     "execution_count": 66,
     "metadata": {},
     "output_type": "execute_result"
    }
   ],
   "source": [
    "class Solution:\n",
    "    def removeDuplicates(self, nums: List[int]) -> int:\n",
    "        a=nums\n",
    "        nums=set(a)\n",
    "        return nums    \n",
    "t=Solution()\n",
    "t.removeDuplicates([1,1,2,3,4,5])"
   ]
  },
  {
   "cell_type": "code",
   "execution_count": 101,
   "metadata": {},
   "outputs": [
    {
     "name": "stdout",
     "output_type": "stream",
     "text": [
      "6\n",
      "6\n",
      "6\n",
      "6\n",
      "6\n",
      "6\n",
      "6\n",
      "[1, 2, 3, 4, 5, 4, 5]\n"
     ]
    }
   ],
   "source": [
    "class Solution:\n",
    "    def removeDuplicates(self, nums: List[int]) -> int:\n",
    "         c=0\n",
    "         for i in range(len(nums)):\n",
    "                 print(len(nums)-1)\n",
    "                 if i < len(nums) - 2 and  nums[i]==nums[i+1]:\n",
    "                      continue\n",
    "                 else:\n",
    "                  nums[c]=nums[i]\n",
    "                  c=c+1\n",
    "            #  return c\n",
    "         print(nums)\n",
    "                 \n",
    "           \n",
    "t=Solution()\n",
    "t.removeDuplicates([1,1,1,2,3,4,5])"
   ]
  },
  {
   "cell_type": "code",
   "execution_count": 107,
   "metadata": {},
   "outputs": [
    {
     "name": "stdout",
     "output_type": "stream",
     "text": [
      "[1, 2, 3, 4, 5]\n"
     ]
    },
    {
     "data": {
      "text/plain": [
       "5"
      ]
     },
     "execution_count": 107,
     "metadata": {},
     "output_type": "execute_result"
    }
   ],
   "source": [
    "class Solution:\n",
    "    def removeDuplicates(self, nums: List[int]) -> int:\n",
    "         c=0\n",
    "         for i in range(c,len(nums)):\n",
    "              if nums[c]!=nums[i]:\n",
    "                  c=c+1\n",
    "                  \n",
    "                  nums[c]=nums[i] \n",
    "         print(nums[:c+1])\n",
    "         return c+1\n",
    "            \n",
    "           \n",
    "t=Solution()\n",
    "t.removeDuplicates([1,1,1,1,2,2,3,4,5])"
   ]
  },
  {
   "cell_type": "code",
   "execution_count": 134,
   "metadata": {},
   "outputs": [
    {
     "name": "stdout",
     "output_type": "stream",
     "text": [
      "[1, 1, 2, 2, 3, 4, 5, 3, 4, 5]\n"
     ]
    },
    {
     "data": {
      "text/plain": [
       "7"
      ]
     },
     "execution_count": 134,
     "metadata": {},
     "output_type": "execute_result"
    }
   ],
   "source": [
    "class Solution:\n",
    "    def removeDuplicates(self, nums: List[int]) -> int:\n",
    "         c=1\n",
    "         count=1\n",
    "         for i in range(c,len(nums)):\n",
    "              if nums[c]==nums[i-1]:\n",
    "                  count=count+1\n",
    "                  \n",
    "              else:\n",
    "                  count=1\n",
    "              if count<=2:\n",
    "                    nums[c]=nums[i]\n",
    "                    c+=1\n",
    "                     \n",
    "                  \n",
    "         print(nums)\n",
    "         return c\n",
    "            \n",
    "           \n",
    "t=Solution()\n",
    "t.removeDuplicates([1,1,1,1,2,2,2,3,4,5])"
   ]
  },
  {
   "cell_type": "code",
   "execution_count": null,
   "metadata": {},
   "outputs": [],
   "source": []
  }
 ],
 "metadata": {
  "kernelspec": {
   "display_name": "Python 3",
   "language": "python",
   "name": "python3"
  },
  "language_info": {
   "codemirror_mode": {
    "name": "ipython",
    "version": 3
   },
   "file_extension": ".py",
   "mimetype": "text/x-python",
   "name": "python",
   "nbconvert_exporter": "python",
   "pygments_lexer": "ipython3",
   "version": "3.11.1"
  },
  "orig_nbformat": 4
 },
 "nbformat": 4,
 "nbformat_minor": 2
}
