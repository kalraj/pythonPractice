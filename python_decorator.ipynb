{
 "cells": [
  {
   "cell_type": "code",
   "execution_count": 3,
   "metadata": {},
   "outputs": [
    {
     "name": "stdout",
     "output_type": "stream",
     "text": [
      "100\n"
     ]
    }
   ],
   "source": [
    "def fun():\n",
    "    def inner():\n",
    "        x=100\n",
    "        return x\n",
    "    return inner\n",
    "a=fun()\n",
    "print(a())"
   ]
  },
  {
   "cell_type": "code",
   "execution_count": 11,
   "metadata": {},
   "outputs": [
    {
     "name": "stdout",
     "output_type": "stream",
     "text": [
      "9.0\n"
     ]
    }
   ],
   "source": [
    "def decor(addition):\n",
    "    def inner():\n",
    "        result=addition()\n",
    "        num3=float(input('enter the third number :'))\n",
    "        result=result+num3\n",
    "        return result\n",
    "    return inner\n",
    "@decor\n",
    "def addition():\n",
    "    result=0\n",
    "    num1=float(input('enter the first number :'))\n",
    "    num2=float(input(\"enter the second number:\"))\n",
    "    result=num1+num2\n",
    "    return result\n",
    "#without changing in above code we add new number in it with the help of decorator concept\n",
    "\n",
    "# addition=decor(addition)\n",
    "print(addition())\n"
   ]
  },
  {
   "cell_type": "code",
   "execution_count": 21,
   "metadata": {},
   "outputs": [
    {
     "name": "stdout",
     "output_type": "stream",
     "text": [
      "['KALRAJ', 'KOTERI']\n"
     ]
    }
   ],
   "source": [
    "#how to use multiple decorator on a particular function\n",
    "def get_name():\n",
    "    first_name=input('enter first name :')\n",
    "    last_name=input('enter last name :')\n",
    "    full_name=first_name + \" \" +last_name\n",
    "    return full_name\n",
    "def decor1(fun):\n",
    "    def inner():\n",
    "        return fun().upper()\n",
    "    return inner\n",
    "def decor2(fun):\n",
    "    def inner():\n",
    "        return fun().split()\n",
    "    return inner\n",
    "get_name= decor2(decor1(get_name))\n",
    "print(get_name())"
   ]
  },
  {
   "cell_type": "code",
   "execution_count": 42,
   "metadata": {},
   "outputs": [
    {
     "ename": "TypeError",
     "evalue": "decor2.<locals>.inner() takes 0 positional arguments but 2 were given",
     "output_type": "error",
     "traceback": [
      "\u001b[1;31m---------------------------------------------------------------------------\u001b[0m",
      "\u001b[1;31mTypeError\u001b[0m                                 Traceback (most recent call last)",
      "Cell \u001b[1;32mIn[42], line 15\u001b[0m\n\u001b[0;32m     11\u001b[0m     \u001b[39mreturn\u001b[39;00m inner\n\u001b[0;32m     14\u001b[0m get_name\u001b[39m=\u001b[39mdecor2(decor1(get_name))\n\u001b[1;32m---> 15\u001b[0m \u001b[39mprint\u001b[39m(get_name(\u001b[39m'\u001b[39;49m\u001b[39mkalraj\u001b[39;49m\u001b[39m'\u001b[39;49m,\u001b[39m'\u001b[39;49m\u001b[39mkoteri\u001b[39;49m\u001b[39m'\u001b[39;49m))\n",
      "\u001b[1;31mTypeError\u001b[0m: decor2.<locals>.inner() takes 0 positional arguments but 2 were given"
     ]
    }
   ],
   "source": [
    "\n",
    "def get_name(first_name,last_name):\n",
    "    full_name=first_name + \" \" +last_name\n",
    "    return full_name\n",
    "def decor1(fun):\n",
    "    def inner():\n",
    "        return fun().upper()\n",
    "    return inner\n",
    "def decor2(fun):\n",
    "    def inner():\n",
    "        return fun().split()\n",
    "    return inner\n",
    "\n",
    "        \n",
    "get_name=decor2(decor1(get_name('kalraj','koteri')))\n",
    "print(get_name())"
   ]
  },
  {
   "cell_type": "code",
   "execution_count": 23,
   "metadata": {},
   "outputs": [
    {
     "name": "stdout",
     "output_type": "stream",
     "text": [
      "['__add__', '__class__', '__class_getitem__', '__contains__', '__delattr__', '__delitem__', '__dir__', '__doc__', '__eq__', '__format__', '__ge__', '__getattribute__', '__getitem__', '__getstate__', '__gt__', '__hash__', '__iadd__', '__imul__', '__init__', '__init_subclass__', '__iter__', '__le__', '__len__', '__lt__', '__mul__', '__ne__', '__new__', '__reduce__', '__reduce_ex__', '__repr__', '__reversed__', '__rmul__', '__setattr__', '__setitem__', '__sizeof__', '__str__', '__subclasshook__', 'append', 'clear', 'copy', 'count', 'extend', 'index', 'insert', 'pop', 'remove', 'reverse', 'sort']\n"
     ]
    }
   ],
   "source": [
    "print(dir(list))"
   ]
  },
  {
   "cell_type": "code",
   "execution_count": 35,
   "metadata": {},
   "outputs": [
    {
     "name": "stdout",
     "output_type": "stream",
     "text": [
      "['apple', 'kalraj']\n"
     ]
    }
   ],
   "source": [
    "a=['kalraj','apple']\n",
    "a.reverse()\n",
    "print(a)"
   ]
  }
 ],
 "metadata": {
  "kernelspec": {
   "display_name": "Python 3",
   "language": "python",
   "name": "python3"
  },
  "language_info": {
   "codemirror_mode": {
    "name": "ipython",
    "version": 3
   },
   "file_extension": ".py",
   "mimetype": "text/x-python",
   "name": "python",
   "nbconvert_exporter": "python",
   "pygments_lexer": "ipython3",
   "version": "3.11.1"
  },
  "orig_nbformat": 4
 },
 "nbformat": 4,
 "nbformat_minor": 2
}
