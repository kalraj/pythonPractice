{
 "cells": [
  {
   "cell_type": "code",
   "execution_count": 3,
   "metadata": {},
   "outputs": [
    {
     "name": "stdout",
     "output_type": "stream",
     "text": [
      "koteri kalraj\n"
     ]
    }
   ],
   "source": [
    "# Write a Python program that accepts the user's first and last name and prints them in reverse order with a space between them.\n",
    "first_name=input('enter first name ')\n",
    "last_name=input('enter your last name')\n",
    "print(last_name + \" \" +first_name)"
   ]
  },
  {
   "cell_type": "code",
   "execution_count": 2,
   "metadata": {},
   "outputs": [
    {
     "name": "stdout",
     "output_type": "stream",
     "text": [
      "['1', '2', '3', '4', '5', '6']\n",
      "('1', '2', '3', '4', '5', '6')\n"
     ]
    }
   ],
   "source": [
    "# Write a Python program that accepts a sequence of comma-separated numbers from the user and generates a list and a tuple of those numbers.\n",
    "a=input('enter the comma seprated number ')\n",
    "list = a.split(',')\n",
    "t = tuple(list)\n",
    "print(list)\n",
    "print(t)"
   ]
  },
  {
   "cell_type": "code",
   "execution_count": null,
   "metadata": {},
   "outputs": [
    {
     "name": "stdout",
     "output_type": "stream",
     "text": [
      "php\n"
     ]
    }
   ],
   "source": [
    "# Write a Python program that accepts a filename from the user and prints the extension of the file.\n",
    "# Sample filename : abc.java\n",
    "# Output : java\n",
    "a=input('enter the file nmae')\n",
    "# b=a.split('.')\n",
    "# b=a.index('.')\n",
    "# print(a[b+1:])\n",
    "# c=3\n",
    "# print(a[c:-1])\n",
    "for i in range(len(a)):\n",
    "    c=i\n",
    "    if a[i]=='.':\n",
    "        print(a[c+1:])\n"
   ]
  },
  {
   "cell_type": "code",
   "execution_count": 27,
   "metadata": {},
   "outputs": [
    {
     "name": "stdout",
     "output_type": "stream",
     "text": [
      "Red Black\n"
     ]
    }
   ],
   "source": [
    "#  Write a Python program to display the first and last colors from the following list.\n",
    "# color_list = [\"Red\",\"Green\",\"White\" ,\"Black\"]\n",
    "color_list = [\"Red\",\"Green\",\"White\" ,\"Black\"]\n",
    "print(color_list[0],color_list[-1])"
   ]
  },
  {
   "cell_type": "code",
   "execution_count": 2,
   "metadata": {},
   "outputs": [
    {
     "name": "stdout",
     "output_type": "stream",
     "text": [
      "615\n"
     ]
    }
   ],
   "source": [
    "# Write a Python program that accepts an integer (n) and computes the value of n+nn+nnn.\n",
    "# Sample value of n is 5\n",
    "# Expected Result : 615\n",
    "a=int(input('enter the number'))\n",
    "# a=str(n)\n",
    "# n1=a\n",
    "# n2=a+a\n",
    "# n3=a+a+a\n",
    "# sum=int(n1)+int(n2)+int(n3)\n",
    "# print(sum)\n",
    "n1=int(\"%s\" %a)\n",
    "n2=int(\"%s%s\" %(a,a))\n",
    "n3=int(\"%s%s%s\" %(a,a,a))\n",
    "print(n1+n2+n3)\n",
    "\n"
   ]
  },
  {
   "cell_type": "code",
   "execution_count": 9,
   "metadata": {},
   "outputs": [
    {
     "name": "stdout",
     "output_type": "stream",
     "text": [
      "current value is  0 previous value is : 0 sum : 0\n",
      "current value is  1 previous value is : 0 sum : 1\n",
      "current value is  2 previous value is : 1 sum : 3\n",
      "current value is  3 previous value is : 2 sum : 5\n",
      "current value is  4 previous value is : 3 sum : 7\n",
      "current value is  5 previous value is : 4 sum : 9\n",
      "current value is  6 previous value is : 5 sum : 11\n",
      "current value is  7 previous value is : 6 sum : 13\n",
      "current value is  8 previous value is : 7 sum : 15\n",
      "current value is  9 previous value is : 8 sum : 17\n"
     ]
    }
   ],
   "source": [
    "pre_value=0\n",
    "for i in range(10):\n",
    "    cur_value=i\n",
    "    sum=cur_value+pre_value\n",
    "    \n",
    "    print(\"current value is \",cur_value,\"previous value is :\",pre_value,\"sum :\",sum)\n",
    "    pre_value=i"
   ]
  },
  {
   "cell_type": "code",
   "execution_count": 11,
   "metadata": {},
   "outputs": [
    {
     "name": "stdout",
     "output_type": "stream",
     "text": [
      "k\n",
      "l\n",
      "a\n",
      "kla\n"
     ]
    }
   ],
   "source": [
    "string=input(\"enter the string\")\n",
    "a=string[0::2]\n",
    "for i in range(len(a)):\n",
    "    print(a[i])\n",
    "print(a)"
   ]
  },
  {
   "cell_type": "code",
   "execution_count": 6,
   "metadata": {},
   "outputs": [
    {
     "name": "stdout",
     "output_type": "stream",
     "text": [
      "value of a is : 10\n",
      "value id of a is : 140707814958152\n",
      "value of a is : 20\n",
      "value id of a is : 140707814958472\n"
     ]
    }
   ],
   "source": [
    "a=10\n",
    "print(\"value of a is :\",a)\n",
    "print(\"value id of a is :\",id(a))\n",
    "a=20\n",
    "print(\"value of a is :\",a)\n",
    "print(\"value id of a is :\",id(a))"
   ]
  },
  {
   "cell_type": "code",
   "execution_count": 1,
   "metadata": {},
   "outputs": [
    {
     "data": {
      "text/plain": [
       "'hello'"
      ]
     },
     "execution_count": 1,
     "metadata": {},
     "output_type": "execute_result"
    }
   ],
   "source": [
    "'hello'"
   ]
  },
  {
   "cell_type": "code",
   "execution_count": 20,
   "metadata": {},
   "outputs": [
    {
     "name": "stdout",
     "output_type": "stream",
     "text": [
      "4 3 2 1 "
     ]
    }
   ],
   "source": [
    "a=int(input('eter the number'))\n",
    "while a>0:\n",
    "    rev=a%10\n",
    "    a=a//10\n",
    "    print(rev,end=\" \")\n",
    "# print(a[::-1],end=' ')\n",
    "    "
   ]
  },
  {
   "cell_type": "code",
   "execution_count": 22,
   "metadata": {},
   "outputs": [
    {
     "name": "stdout",
     "output_type": "stream",
     "text": [
      "* * * * * \n",
      "* * * * \n",
      "* * * \n",
      "* * \n",
      "* \n"
     ]
    }
   ],
   "source": [
    "for i in range(5):\n",
    "    for j in range(5-i):\n",
    "        print(\"* \",end=\"\")\n",
    "    print()"
   ]
  },
  {
   "cell_type": "code",
   "execution_count": 32,
   "metadata": {},
   "outputs": [
    {
     "name": "stdout",
     "output_type": "stream",
     "text": [
      "16\n"
     ]
    }
   ],
   "source": [
    "\n",
    "def exponent(base,exp):\n",
    "    \n",
    "    if exp>=0:\n",
    "        # return base**exp\n",
    "        print(base**exp)\n",
    "    else:\n",
    "        print(\"not valid\")\n",
    "# a=exponent(2,5) \n",
    "# print(a) \n",
    "exponent(4,2)      "
   ]
  },
  {
   "cell_type": "code",
   "execution_count": null,
   "metadata": {},
   "outputs": [],
   "source": []
  },
  {
   "cell_type": "code",
   "execution_count": 8,
   "metadata": {},
   "outputs": [
    {
     "name": "stdout",
     "output_type": "stream",
     "text": [
      "krj\n"
     ]
    }
   ],
   "source": [
    "string=input(\"enter the string\")\n",
    "a=len(string)\n",
    "b=string[0]\n",
    "c=string[int(a/2)]\n",
    "d=string[-1]\n",
    "result=b+c+d\n",
    "print(result)\n"
   ]
  },
  {
   "cell_type": "code",
   "execution_count": 15,
   "metadata": {},
   "outputs": [
    {
     "name": "stdout",
     "output_type": "stream",
     "text": [
      "krj\n",
      "k i\n"
     ]
    }
   ],
   "source": [
    "def string(str):\n",
    "    # a=len(str)\n",
    "    # b=str[0]\n",
    "    # c=str[int(len(str)/2)]\n",
    "    # d=str[-1]\n",
    "    b,c,d=str[0],str[int(len(str)/2)],str[-1]\n",
    "    result=b+c+d\n",
    "    return result\n",
    "print(string(\"kalraj\"))\n",
    "print(string(\"kalraj koteri\"))\n",
    "    \n",
    "    "
   ]
  },
  {
   "cell_type": "code",
   "execution_count": 37,
   "metadata": {},
   "outputs": [
    {
     "name": "stdout",
     "output_type": "stream",
     "text": [
      "kalkoteriraj\n",
      "kalkoteriraj\n"
     ]
    }
   ],
   "source": [
    "#append new string in the middle of a given string\n",
    "str1='kalraj'\n",
    "str2='koteri'\n",
    "s3=int(len(str1)/2) #middle index of str1\n",
    "s4=str1[0:s3]+str2 #get character from 0 to middle  and concate it with str2\n",
    "\n",
    "s4=s4+str1[s3:] # append remaining character from str1\n",
    "print(s4)\n",
    "           \n",
    "def apend_string_middle(str3,str4):\n",
    "    mid= int(len(str3)/2)\n",
    "    str_concate_slice=str3[:mid]+str4\n",
    "    str_concate_slice=str_concate_slice+str3[mid:]\n",
    "    return str_concate_slice\n",
    "a=apend_string_middle(\"kalraj\",\"koteri\")\n",
    "print(a)"
   ]
  },
  {
   "cell_type": "code",
   "execution_count": 41,
   "metadata": {},
   "outputs": [
    {
     "data": {
      "text/plain": [
       "'kalkoteriraj'"
      ]
     },
     "execution_count": 41,
     "metadata": {},
     "output_type": "execute_result"
    }
   ],
   "source": [
    "class Middle:\n",
    "    def apend_string_middle(self,str3,str4):\n",
    "        mid= int(len(str3)/2)\n",
    "        str_concate_slice=str3[:mid]+str4\n",
    "        str_concate_slice=str_concate_slice+str3[mid:]\n",
    "        return str_concate_slice\n",
    "getstr=Middle()\n",
    "getstr.apend_string_middle('kalraj','koteri')   "
   ]
  },
  {
   "cell_type": "code",
   "execution_count": 48,
   "metadata": {},
   "outputs": [
    {
     "name": "stdout",
     "output_type": "stream",
     "text": [
      "True\n"
     ]
    }
   ],
   "source": [
    "# string character balance test\n",
    "s1='py'\n",
    "s2='pYthon is easy programming language'\n",
    "if s1.lower() in s2.lower():\n",
    "    print(True)"
   ]
  },
  {
   "cell_type": "code",
   "execution_count": 49,
   "metadata": {},
   "outputs": [
    {
     "name": "stdout",
     "output_type": "stream",
     "text": [
      "True\n"
     ]
    }
   ],
   "source": [
    "def balance(str1,str2):\n",
    "    if str1.lower() in str2.lower():\n",
    "        print(True)\n",
    "balance('ka','kAlraj')"
   ]
  },
  {
   "cell_type": "code",
   "execution_count": 5,
   "metadata": {},
   "outputs": [
    {
     "name": "stdout",
     "output_type": "stream",
     "text": [
      "kk\n",
      "kkre\n",
      "kkreji\n"
     ]
    }
   ],
   "source": [
    "#create a new string made of the first,middle and last characters of each input string\n",
    "s1='kalraj'\n",
    "s2='koteri'\n",
    "s3=s1[0]+s2[0]\n",
    "print(s3)\n",
    "\n",
    "s3=s3+s1[int(len(s1)/2)]+s2[int(len(s2)/2)]\n",
    "print(s3)\n",
    "s3=s3+s1[-1]+s2[-1]\n",
    "print(s3)"
   ]
  },
  {
   "cell_type": "code",
   "execution_count": 7,
   "metadata": {},
   "outputs": [
    {
     "data": {
      "text/plain": [
       "'ptwpre'"
      ]
     },
     "execution_count": 7,
     "metadata": {},
     "output_type": "execute_result"
    }
   ],
   "source": [
    "def first_mid_last(str1,str2):\n",
    "    str3=str1[0]+str2[0]\n",
    "    str3=str3+str1[int(len(str1)/2)]+str2[(int(len(str2)/2))]\n",
    "    str3=str3+str1[-1]+str2[-1]\n",
    "    return str3\n",
    "first_mid_last('power','tuple')\n"
   ]
  },
  {
   "cell_type": "code",
   "execution_count": 52,
   "metadata": {},
   "outputs": [
    {
     "name": "stdout",
     "output_type": "stream",
     "text": [
      "<class 'list'>\n",
      "0\n",
      "1\n",
      "1\n",
      "1\n",
      "1\n",
      "1\n",
      "1\n",
      "1\n",
      "1\n"
     ]
    }
   ],
   "source": [
    "#find all occurrences of \"USA\" in a given string ignoring the case\n",
    "# str1=\"welcome to USA.usa awesome ,isn't it?\"\n",
    "str1=\"welcome to USA . usa awesome ,isn't To it?\"\n",
    "b=str1.split(' ')\n",
    "print(type(b))\n",
    "c=0\n",
    "for i in range(len(b)):\n",
    "    if str(b[i])=='to':\n",
    "        c=c+1\n",
    "print(c)\n",
    "        \n",
    "    "
   ]
  }
 ],
 "metadata": {
  "kernelspec": {
   "display_name": "Python 3",
   "language": "python",
   "name": "python3"
  },
  "language_info": {
   "codemirror_mode": {
    "name": "ipython",
    "version": 3
   },
   "file_extension": ".py",
   "mimetype": "text/x-python",
   "name": "python",
   "nbconvert_exporter": "python",
   "pygments_lexer": "ipython3",
   "version": "3.11.1"
  },
  "orig_nbformat": 4,
  "vscode": {
   "interpreter": {
    "hash": "5238573367df39f7286bb46f9ff5f08f63a01a80960060ce41e3c79b190280fa"
   }
  }
 },
 "nbformat": 4,
 "nbformat_minor": 2
}
